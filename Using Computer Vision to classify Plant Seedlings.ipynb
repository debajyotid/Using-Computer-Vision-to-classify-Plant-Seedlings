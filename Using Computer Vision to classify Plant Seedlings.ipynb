{
 "cells": [
  {
   "cell_type": "markdown",
   "metadata": {},
   "source": [
    "# Plant Seedlings Classification\n",
    "\n",
    "## Objective\n",
    "Can we differentiate a weed from a crop seedling? Given an image, how do we differentiate between different plant\n",
    "types?\n",
    "\n",
    "This dataset gives us an opportunity to experiment with different image recognition techniques, as well to\n",
    "provide a place to cross-pollenate ideas. The ability to do so effectively can mean better crop yields and\n",
    "better stewardship of the environment."
   ]
  },
  {
   "cell_type": "markdown",
   "metadata": {},
   "source": [
    "## Dataset\n",
    "\n",
    "The Aarhus University Signal Processing group, in collaboration with the University of Southern Denmark, has\n",
    "recently released a dataset containing images of approximately 960 unique plants belonging to 12 species at\n",
    "several growth stages.\n",
    "\n",
    "Here we are provided with a training set and a test set of images of plant seedlings at various stages of growing.\n",
    "Each image has a filename that is its unique id. The dataset comprises 12 plant species. The objective is to create a classifier capable of determining a plant's species from a photo. The list of species\n",
    "is as follows:\n",
    "\n",
    "● Black-grass\n",
    "\n",
    "● Charlock\n",
    "\n",
    "● Cleavers\n",
    "\n",
    "● Common Chickweed\n",
    "\n",
    "● Common wheat\n",
    "\n",
    "● Fat Hen\n",
    "\n",
    "● Loose Silky-bent\n",
    "\n",
    "● Maize\n",
    "\n",
    "● Scentless Mayweed\n",
    "\n",
    "● Shepherds Purse\n",
    "\n",
    "● Small-flowered Cranesbill\n",
    "\n",
    "● Sugar beet\n",
    "\n",
    "Link: https://www.kaggle.com/c/plant-seedlings-classification"
   ]
  },
  {
   "cell_type": "markdown",
   "metadata": {},
   "source": [
    "## Acknowledgments\n",
    "We extend our appreciation to the Aarhus University Department of Engineering Signal Processing Group for hosting the original data | https://vision.eng.au.dk/plant-seedlings-dataset/.\n",
    "\n",
    "## Citation\n",
    "A Public Image Database for Benchmark of Plant Seedling Classification Algorithms: | https://arxiv.org/abs/1711.05458"
   ]
  },
  {
   "cell_type": "markdown",
   "metadata": {},
   "source": [
    "## Approach\n",
    "We have approached to solve this problem as follows:\n",
    "\n",
    "1. Read the images and generate the training dataset\n",
    "    a. Note: We should not use the test folder as the labels are not available for the same\n",
    "2. Split the data set into train and validation\n",
    "3. Initialize & build the model\n",
    "4. Compile and fit the model\n",
    "5. Predict the accuracy for both train and validation data"
   ]
  },
  {
   "cell_type": "markdown",
   "metadata": {
    "colab_type": "text",
    "id": "M7XK8jSmZAD_"
   },
   "source": [
    "### Package Version\n",
    "- tensorflow==2.2.0\n",
    "- pandas==1.0.4\n",
    "- numpy==1.18.5\n",
    "- google==2.0.3"
   ]
  },
  {
   "cell_type": "markdown",
   "metadata": {
    "colab_type": "text",
    "id": "YSwPzyBqNrOY"
   },
   "source": [
    "# Plant Breed Classification"
   ]
  },
  {
   "cell_type": "markdown",
   "metadata": {
    "colab_type": "text",
    "id": "SAbUAPQJN70H"
   },
   "source": [
    "### Let's mount the Google Drive first"
   ]
  },
  {
   "cell_type": "code",
   "execution_count": null,
   "metadata": {
    "colab": {
     "base_uri": "https://localhost:8080/",
     "height": 124
    },
    "colab_type": "code",
    "executionInfo": {
     "elapsed": 29794,
     "status": "ok",
     "timestamp": 1592396336017,
     "user": {
      "displayName": "Suryansh Sharma",
      "photoUrl": "https://lh3.googleusercontent.com/a-/AOh14Gi0Ht3r8_7mNSHFKhpcyEpYvjgGcD5f34Pv5sGRpA=s64",
      "userId": "03232072030227591914"
     },
     "user_tz": -330
    },
    "id": "x65v-izcNonO",
    "outputId": "4c7ede9f-dc14-4c9c-c8e5-52184b158a5a"
   },
   "outputs": [],
   "source": [
    "from google.colab import drive\n",
    "drive.mount('/content/drive')"
   ]
  },
  {
   "cell_type": "markdown",
   "metadata": {
    "colab_type": "text",
    "id": "62kww0OHOAD3"
   },
   "source": [
    "### Extract the contents of the Zip file\n",
    "- Filename: plant-seedlings-classification.zip\n",
    "- Extract train and test folders"
   ]
  },
  {
   "cell_type": "code",
   "execution_count": null,
   "metadata": {
    "colab": {},
    "colab_type": "code",
    "id": "xdg3YFpvIlzp"
   },
   "outputs": [],
   "source": [
    "from zipfile import ZipFile\n",
    "with ZipFile('/content/drive/My Drive/plant-seedlings-classification.zip', 'r') as z:\n",
    "  z.extractall()"
   ]
  },
  {
   "cell_type": "markdown",
   "metadata": {
    "colab_type": "text",
    "id": "RCatnR8CO0Pi"
   },
   "source": [
    "### Generate training data\n",
    "- Read the images\n",
    "- Resize the image to 128 x 128\n",
    "- Get the image labels from the folder name"
   ]
  },
  {
   "cell_type": "code",
   "execution_count": null,
   "metadata": {
    "colab": {
     "base_uri": "https://localhost:8080/",
     "height": 225
    },
    "colab_type": "code",
    "executionInfo": {
     "elapsed": 30507,
     "status": "ok",
     "timestamp": 1592396551937,
     "user": {
      "displayName": "Suryansh Sharma",
      "photoUrl": "https://lh3.googleusercontent.com/a-/AOh14Gi0Ht3r8_7mNSHFKhpcyEpYvjgGcD5f34Pv5sGRpA=s64",
      "userId": "03232072030227591914"
     },
     "user_tz": -330
    },
    "id": "8BYcVPZUqOMi",
    "outputId": "bf281aff-3e13-4dfe-a2c3-232e19c7a7b0"
   },
   "outputs": [
    {
     "name": "stdout",
     "output_type": "stream",
     "text": [
      "Cleavers\n",
      "Fat Hen\n",
      "Sugar beet\n",
      "Charlock\n",
      "Maize\n",
      "Common wheat\n",
      "Small-flowered Cranesbill\n",
      "Black-grass\n",
      "Common Chickweed\n",
      "Loose Silky-bent\n",
      "Shepherds Purse\n",
      "Scentless Mayweed\n"
     ]
    }
   ],
   "source": [
    "import os\n",
    "import cv2\n",
    "\n",
    "X_train = []\n",
    "y_train = []\n",
    "\n",
    "# list all folders inside train directory\n",
    "for i in os.listdir('train'):\n",
    "    print(i)          \n",
    "    for j in os.listdir('train/' + i):\n",
    "      # read each image inside train directory one by one\n",
    "      dummy = cv2.imread('train/' + i + \"/\" + j)\n",
    "      dummy = cv2.resize(dummy, (128, 128))\n",
    "      X_train.append(dummy)\n",
    "      y_train.append(i)"
   ]
  },
  {
   "cell_type": "markdown",
   "metadata": {
    "colab_type": "text",
    "id": "pS2UTa1VPbbh"
   },
   "source": [
    "### Encode the labels\n",
    "- Convert categorical variables into one hot encoded variables"
   ]
  },
  {
   "cell_type": "code",
   "execution_count": null,
   "metadata": {
    "colab": {},
    "colab_type": "code",
    "id": "jX9jD090uIxX"
   },
   "outputs": [],
   "source": [
    "import pandas as pd\n",
    "\n",
    "y_train = pd.get_dummies(y_train).values"
   ]
  },
  {
   "cell_type": "markdown",
   "metadata": {
    "colab_type": "text",
    "id": "AqnTwffEPt62"
   },
   "source": [
    "Covert feature list in a numpy array"
   ]
  },
  {
   "cell_type": "code",
   "execution_count": null,
   "metadata": {
    "colab": {},
    "colab_type": "code",
    "id": "i_4kF4C9qV73"
   },
   "outputs": [],
   "source": [
    "import numpy as np\n",
    "\n",
    "X_train = np.array(X_train)"
   ]
  },
  {
   "cell_type": "markdown",
   "metadata": {
    "colab_type": "text",
    "id": "ZXnmBP0gP3Ut"
   },
   "source": [
    "### Split the data into training and testing"
   ]
  },
  {
   "cell_type": "code",
   "execution_count": null,
   "metadata": {
    "colab": {
     "base_uri": "https://localhost:8080/",
     "height": 52
    },
    "colab_type": "code",
    "executionInfo": {
     "elapsed": 1093,
     "status": "ok",
     "timestamp": 1592396873199,
     "user": {
      "displayName": "Suryansh Sharma",
      "photoUrl": "https://lh3.googleusercontent.com/a-/AOh14Gi0Ht3r8_7mNSHFKhpcyEpYvjgGcD5f34Pv5sGRpA=s64",
      "userId": "03232072030227591914"
     },
     "user_tz": -330
    },
    "id": "VzBQIPBAuQwN",
    "outputId": "d88545cf-38ec-49c0-e3b4-31b9b7d21493"
   },
   "outputs": [
    {
     "name": "stdout",
     "output_type": "stream",
     "text": [
      "3800\n",
      "950\n"
     ]
    }
   ],
   "source": [
    "from sklearn.model_selection import train_test_split\n",
    "\n",
    "X_train, X_val, y_train, y_val = train_test_split(X_train, y_train, test_size=0.2, random_state=2)\n",
    "\n",
    "print(len(X_train))\n",
    "print(len(X_val))"
   ]
  },
  {
   "cell_type": "markdown",
   "metadata": {
    "colab_type": "text",
    "id": "-DkVg0IqPS1D"
   },
   "source": [
    "### Shape of the data"
   ]
  },
  {
   "cell_type": "code",
   "execution_count": null,
   "metadata": {
    "colab": {
     "base_uri": "https://localhost:8080/",
     "height": 35
    },
    "colab_type": "code",
    "executionInfo": {
     "elapsed": 1047,
     "status": "ok",
     "timestamp": 1592396883688,
     "user": {
      "displayName": "Suryansh Sharma",
      "photoUrl": "https://lh3.googleusercontent.com/a-/AOh14Gi0Ht3r8_7mNSHFKhpcyEpYvjgGcD5f34Pv5sGRpA=s64",
      "userId": "03232072030227591914"
     },
     "user_tz": -330
    },
    "id": "UU995jCXGrR_",
    "outputId": "0a2b27b9-4448-4832-d4ed-dcb6da391387"
   },
   "outputs": [
    {
     "data": {
      "text/plain": [
       "(3800, 128, 128, 3)"
      ]
     },
     "execution_count": 9,
     "metadata": {
      "tags": []
     },
     "output_type": "execute_result"
    }
   ],
   "source": [
    "X_train.shape"
   ]
  },
  {
   "cell_type": "code",
   "execution_count": null,
   "metadata": {
    "colab": {
     "base_uri": "https://localhost:8080/",
     "height": 35
    },
    "colab_type": "code",
    "executionInfo": {
     "elapsed": 1052,
     "status": "ok",
     "timestamp": 1592396885347,
     "user": {
      "displayName": "Suryansh Sharma",
      "photoUrl": "https://lh3.googleusercontent.com/a-/AOh14Gi0Ht3r8_7mNSHFKhpcyEpYvjgGcD5f34Pv5sGRpA=s64",
      "userId": "03232072030227591914"
     },
     "user_tz": -330
    },
    "id": "TyWC85VZvS5_",
    "outputId": "65b3b3aa-7972-4e68-cf99-55cc148f88bd"
   },
   "outputs": [
    {
     "data": {
      "text/plain": [
       "(950, 128, 128, 3)"
      ]
     },
     "execution_count": 10,
     "metadata": {
      "tags": []
     },
     "output_type": "execute_result"
    }
   ],
   "source": [
    "X_val.shape"
   ]
  },
  {
   "cell_type": "code",
   "execution_count": null,
   "metadata": {
    "colab": {
     "base_uri": "https://localhost:8080/",
     "height": 35
    },
    "colab_type": "code",
    "executionInfo": {
     "elapsed": 1292,
     "status": "ok",
     "timestamp": 1592396896071,
     "user": {
      "displayName": "Suryansh Sharma",
      "photoUrl": "https://lh3.googleusercontent.com/a-/AOh14Gi0Ht3r8_7mNSHFKhpcyEpYvjgGcD5f34Pv5sGRpA=s64",
      "userId": "03232072030227591914"
     },
     "user_tz": -330
    },
    "id": "DKgWlwHSvUc2",
    "outputId": "c56f3dce-8141-40da-b786-c7e03b55bc5c"
   },
   "outputs": [
    {
     "data": {
      "text/plain": [
       "(3800, 12)"
      ]
     },
     "execution_count": 11,
     "metadata": {
      "tags": []
     },
     "output_type": "execute_result"
    }
   ],
   "source": [
    "y_train.shape"
   ]
  },
  {
   "cell_type": "code",
   "execution_count": null,
   "metadata": {
    "colab": {
     "base_uri": "https://localhost:8080/",
     "height": 35
    },
    "colab_type": "code",
    "executionInfo": {
     "elapsed": 1410,
     "status": "ok",
     "timestamp": 1592396902038,
     "user": {
      "displayName": "Suryansh Sharma",
      "photoUrl": "https://lh3.googleusercontent.com/a-/AOh14Gi0Ht3r8_7mNSHFKhpcyEpYvjgGcD5f34Pv5sGRpA=s64",
      "userId": "03232072030227591914"
     },
     "user_tz": -330
    },
    "id": "Mp5dhe-9QGDW",
    "outputId": "6712663e-9bdd-411c-d201-4c52679fbcf4"
   },
   "outputs": [
    {
     "data": {
      "text/plain": [
       "(950, 12)"
      ]
     },
     "execution_count": 12,
     "metadata": {
      "tags": []
     },
     "output_type": "execute_result"
    }
   ],
   "source": [
    "y_val.shape"
   ]
  },
  {
   "cell_type": "markdown",
   "metadata": {
    "colab_type": "text",
    "id": "SMK--RIXQH-Y"
   },
   "source": [
    "### Define the model"
   ]
  },
  {
   "cell_type": "code",
   "execution_count": null,
   "metadata": {
    "colab": {},
    "colab_type": "code",
    "id": "i0PInUEOvZDn"
   },
   "outputs": [],
   "source": [
    "from tensorflow.keras.models import Sequential\n",
    "from tensorflow.keras.layers import Convolution2D, Dropout, Dense, Flatten, BatchNormalization, MaxPooling2D\n",
    "\n",
    "# model architecture building\n",
    "model = Sequential()\n",
    "\n",
    "model.add(BatchNormalization(input_shape = (128, 128, 3)))\n",
    "\n",
    "model.add(Convolution2D(filters = 32, kernel_size = 3, activation ='relu', input_shape = (128, 128, 3))) \n",
    "model.add(MaxPooling2D(pool_size = 2))\n",
    "\n",
    "model.add(Convolution2D(filters = 64, kernel_size = 4, padding = 'same', activation = 'relu'))\n",
    "model.add(MaxPooling2D(pool_size = 2))\n",
    "\n",
    "model.add(Convolution2D(filters = 128, kernel_size = 3, padding = 'same', activation = 'relu'))\n",
    "model.add(MaxPooling2D(pool_size = 2))\n",
    "\n",
    "model.add(Convolution2D(filters = 128, kernel_size = 2, padding = 'same', activation = 'relu'))\n",
    "model.add(MaxPooling2D(pool_size = 2))\n",
    "\n",
    "model.add(Flatten()) \n",
    "\n",
    "# fully connected layer\n",
    "model.add(Dense(units = 128,activation = 'relu'))\n",
    "model.add(Dense(units = 64, activation = 'relu'))\n",
    "model.add(Dense(units = 32, activation = 'relu'))\n",
    "\n",
    "model.add(Dense(units = 12, activation = 'softmax')) "
   ]
  },
  {
   "cell_type": "markdown",
   "metadata": {
    "colab_type": "text",
    "id": "gmF9rNxNSC92"
   },
   "source": [
    "### Compile the model"
   ]
  },
  {
   "cell_type": "code",
   "execution_count": null,
   "metadata": {
    "colab": {},
    "colab_type": "code",
    "id": "3V2UmrqIva95"
   },
   "outputs": [],
   "source": [
    "from tensorflow.keras.optimizers import Adam\n",
    "\n",
    "optimizer = Adam(lr=0.001)\n",
    "model.compile(optimizer='adam', loss = 'categorical_crossentropy', metrics = ['accuracy'])"
   ]
  },
  {
   "cell_type": "markdown",
   "metadata": {
    "colab_type": "text",
    "id": "xIcbBjV3SFB7"
   },
   "source": [
    "### Summarize the model"
   ]
  },
  {
   "cell_type": "code",
   "execution_count": null,
   "metadata": {
    "colab": {
     "base_uri": "https://localhost:8080/",
     "height": 639
    },
    "colab_type": "code",
    "executionInfo": {
     "elapsed": 1093,
     "status": "ok",
     "timestamp": 1592398415272,
     "user": {
      "displayName": "Suryansh Sharma",
      "photoUrl": "https://lh3.googleusercontent.com/a-/AOh14Gi0Ht3r8_7mNSHFKhpcyEpYvjgGcD5f34Pv5sGRpA=s64",
      "userId": "03232072030227591914"
     },
     "user_tz": -330
    },
    "id": "xMnStHPbvdS9",
    "outputId": "ba71d988-3780-4f3f-8a3f-80fd76af2d1c"
   },
   "outputs": [
    {
     "name": "stdout",
     "output_type": "stream",
     "text": [
      "Model: \"sequential_11\"\n",
      "_________________________________________________________________\n",
      "Layer (type)                 Output Shape              Param #   \n",
      "=================================================================\n",
      "batch_normalization_7 (Batch (None, 128, 128, 3)       12        \n",
      "_________________________________________________________________\n",
      "conv2d_36 (Conv2D)           (None, 126, 126, 32)      896       \n",
      "_________________________________________________________________\n",
      "max_pooling2d_36 (MaxPooling (None, 63, 63, 32)        0         \n",
      "_________________________________________________________________\n",
      "conv2d_37 (Conv2D)           (None, 63, 63, 64)        32832     \n",
      "_________________________________________________________________\n",
      "max_pooling2d_37 (MaxPooling (None, 31, 31, 64)        0         \n",
      "_________________________________________________________________\n",
      "conv2d_38 (Conv2D)           (None, 31, 31, 128)       73856     \n",
      "_________________________________________________________________\n",
      "max_pooling2d_38 (MaxPooling (None, 15, 15, 128)       0         \n",
      "_________________________________________________________________\n",
      "conv2d_39 (Conv2D)           (None, 15, 15, 128)       65664     \n",
      "_________________________________________________________________\n",
      "max_pooling2d_39 (MaxPooling (None, 7, 7, 128)         0         \n",
      "_________________________________________________________________\n",
      "flatten_11 (Flatten)         (None, 6272)              0         \n",
      "_________________________________________________________________\n",
      "dense_44 (Dense)             (None, 128)               802944    \n",
      "_________________________________________________________________\n",
      "dense_45 (Dense)             (None, 64)                8256      \n",
      "_________________________________________________________________\n",
      "dense_46 (Dense)             (None, 32)                2080      \n",
      "_________________________________________________________________\n",
      "dense_47 (Dense)             (None, 12)                396       \n",
      "=================================================================\n",
      "Total params: 986,936\n",
      "Trainable params: 986,930\n",
      "Non-trainable params: 6\n",
      "_________________________________________________________________\n"
     ]
    }
   ],
   "source": [
    "model.summary()"
   ]
  },
  {
   "cell_type": "markdown",
   "metadata": {
    "colab_type": "text",
    "id": "jTa3b3hnSSHJ"
   },
   "source": [
    "### Fit the model"
   ]
  },
  {
   "cell_type": "code",
   "execution_count": null,
   "metadata": {
    "colab": {
     "base_uri": "https://localhost:8080/",
     "height": 725
    },
    "colab_type": "code",
    "executionInfo": {
     "elapsed": 62496,
     "status": "ok",
     "timestamp": 1592398501747,
     "user": {
      "displayName": "Suryansh Sharma",
      "photoUrl": "https://lh3.googleusercontent.com/a-/AOh14Gi0Ht3r8_7mNSHFKhpcyEpYvjgGcD5f34Pv5sGRpA=s64",
      "userId": "03232072030227591914"
     },
     "user_tz": -330
    },
    "id": "vdsV52_lvfBr",
    "outputId": "33ff3f63-9cdd-4bbc-892c-d673cae9bddd"
   },
   "outputs": [
    {
     "name": "stdout",
     "output_type": "stream",
     "text": [
      "Epoch 1/20\n",
      "119/119 [==============================] - 3s 27ms/step - loss: 2.1438 - accuracy: 0.2537 - val_loss: 2.3635 - val_accuracy: 0.2432\n",
      "Epoch 2/20\n",
      "119/119 [==============================] - 3s 25ms/step - loss: 1.4113 - accuracy: 0.5037 - val_loss: 1.1914 - val_accuracy: 0.5789\n",
      "Epoch 3/20\n",
      "119/119 [==============================] - 3s 25ms/step - loss: 1.0166 - accuracy: 0.6476 - val_loss: 1.0229 - val_accuracy: 0.6432\n",
      "Epoch 4/20\n",
      "119/119 [==============================] - 3s 25ms/step - loss: 0.7876 - accuracy: 0.7353 - val_loss: 0.6972 - val_accuracy: 0.7758\n",
      "Epoch 5/20\n",
      "119/119 [==============================] - 3s 25ms/step - loss: 0.5962 - accuracy: 0.8018 - val_loss: 0.7950 - val_accuracy: 0.7547\n",
      "Epoch 6/20\n",
      "119/119 [==============================] - 3s 25ms/step - loss: 0.4576 - accuracy: 0.8374 - val_loss: 0.6413 - val_accuracy: 0.7916\n",
      "Epoch 7/20\n",
      "119/119 [==============================] - 3s 25ms/step - loss: 0.3778 - accuracy: 0.8687 - val_loss: 0.6384 - val_accuracy: 0.8105\n",
      "Epoch 8/20\n",
      "119/119 [==============================] - 3s 25ms/step - loss: 0.3696 - accuracy: 0.8650 - val_loss: 0.7195 - val_accuracy: 0.7789\n",
      "Epoch 9/20\n",
      "119/119 [==============================] - 3s 26ms/step - loss: 0.2798 - accuracy: 0.8995 - val_loss: 0.6302 - val_accuracy: 0.8232\n",
      "Epoch 10/20\n",
      "119/119 [==============================] - 3s 26ms/step - loss: 0.2241 - accuracy: 0.9234 - val_loss: 0.8399 - val_accuracy: 0.7474\n",
      "Epoch 11/20\n",
      "119/119 [==============================] - 3s 26ms/step - loss: 0.2187 - accuracy: 0.9203 - val_loss: 0.6983 - val_accuracy: 0.8032\n",
      "Epoch 12/20\n",
      "119/119 [==============================] - 3s 26ms/step - loss: 0.1833 - accuracy: 0.9308 - val_loss: 0.7433 - val_accuracy: 0.8105\n",
      "Epoch 13/20\n",
      "119/119 [==============================] - 3s 26ms/step - loss: 0.1761 - accuracy: 0.9329 - val_loss: 0.7222 - val_accuracy: 0.8263\n",
      "Epoch 14/20\n",
      "119/119 [==============================] - 3s 26ms/step - loss: 0.1576 - accuracy: 0.9400 - val_loss: 0.8183 - val_accuracy: 0.8063\n",
      "Epoch 15/20\n",
      "119/119 [==============================] - 3s 26ms/step - loss: 0.1493 - accuracy: 0.9479 - val_loss: 0.8390 - val_accuracy: 0.8063\n",
      "Epoch 16/20\n",
      "119/119 [==============================] - 3s 26ms/step - loss: 0.1217 - accuracy: 0.9600 - val_loss: 0.6874 - val_accuracy: 0.8326\n",
      "Epoch 17/20\n",
      "119/119 [==============================] - 3s 26ms/step - loss: 0.0823 - accuracy: 0.9711 - val_loss: 0.9369 - val_accuracy: 0.8042\n",
      "Epoch 18/20\n",
      "119/119 [==============================] - 3s 25ms/step - loss: 0.0667 - accuracy: 0.9784 - val_loss: 0.9214 - val_accuracy: 0.8189\n",
      "Epoch 19/20\n",
      "119/119 [==============================] - 3s 25ms/step - loss: 0.1110 - accuracy: 0.9637 - val_loss: 0.8196 - val_accuracy: 0.8337\n",
      "Epoch 20/20\n",
      "119/119 [==============================] - 3s 25ms/step - loss: 0.0609 - accuracy: 0.9792 - val_loss: 0.9578 - val_accuracy: 0.8137\n"
     ]
    },
    {
     "data": {
      "text/plain": [
       "<tensorflow.python.keras.callbacks.History at 0x7fad106ae6a0>"
      ]
     },
     "execution_count": 59,
     "metadata": {
      "tags": []
     },
     "output_type": "execute_result"
    }
   ],
   "source": [
    "model.fit(X_train, y_train, epochs = 20, validation_data = (X_val, y_val), initial_epoch=0)"
   ]
  },
  {
   "cell_type": "markdown",
   "metadata": {
    "colab_type": "text",
    "id": "TNdW1_JhStK_"
   },
   "source": [
    "### Evaluate the model"
   ]
  },
  {
   "cell_type": "code",
   "execution_count": null,
   "metadata": {
    "colab": {
     "base_uri": "https://localhost:8080/",
     "height": 52
    },
    "colab_type": "code",
    "executionInfo": {
     "elapsed": 61471,
     "status": "ok",
     "timestamp": 1592398357569,
     "user": {
      "displayName": "Suryansh Sharma",
      "photoUrl": "https://lh3.googleusercontent.com/a-/AOh14Gi0Ht3r8_7mNSHFKhpcyEpYvjgGcD5f34Pv5sGRpA=s64",
      "userId": "03232072030227591914"
     },
     "user_tz": -330
    },
    "id": "oyjAMy0yzCd2",
    "outputId": "91869f1b-34d1-45f5-f06b-b8e8caa3b324"
   },
   "outputs": [
    {
     "name": "stdout",
     "output_type": "stream",
     "text": [
      "30/30 [==============================] - 0s 8ms/step - loss: 1.0750 - accuracy: 0.7832\n",
      "Loss: 1.0749837160110474, Accuracy: 0.7831578850746155\n"
     ]
    }
   ],
   "source": [
    "scores = model.evaluate(X_val, y_val)\n",
    "print('Loss: {}, Accuracy: {}'.format(scores[0], scores[1]))"
   ]
  },
  {
   "cell_type": "code",
   "execution_count": null,
   "metadata": {
    "colab": {},
    "colab_type": "code",
    "id": "V1scVxBYSzDr"
   },
   "outputs": [],
   "source": []
  }
 ],
 "metadata": {
  "accelerator": "GPU",
  "colab": {
   "collapsed_sections": [],
   "name": "Solution - Project 1 - Computer Vision - Plant Breed Classification.ipynb",
   "provenance": []
  },
  "kernelspec": {
   "display_name": "Python 3",
   "language": "python",
   "name": "python3"
  },
  "language_info": {
   "codemirror_mode": {
    "name": "ipython",
    "version": 3
   },
   "file_extension": ".py",
   "mimetype": "text/x-python",
   "name": "python",
   "nbconvert_exporter": "python",
   "pygments_lexer": "ipython3",
   "version": "3.7.4"
  }
 },
 "nbformat": 4,
 "nbformat_minor": 1
}
